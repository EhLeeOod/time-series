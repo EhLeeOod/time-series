{
 "cells": [
  {
   "cell_type": "markdown",
   "id": "ce3e0f4f-13bf-4df4-8884-9966c1d4e351",
   "metadata": {},
   "source": [
    "# Project 3 Part 1\n",
    "\n",
    "For Part 1, you will be downloading and preparing a crime dataset for time series analysis.\n",
    "\n",
    "\n",
    "You will then answer the provided stakeholder questions and support your answers with visualizations."
   ]
  },
  {
   "cell_type": "markdown",
   "id": "44e203c8-cc41-4d71-ad65-7251e938d859",
   "metadata": {},
   "source": [
    "## Questions\n",
    "\n",
    "Topic 1) Comparing Police Districts: Which district had the most crimes in 2022? Which had the least?\n",
    "\n",
    "Topic 4) Comparing Months:\r\n",
    "Answer the question: ​What months have the most crime? What months have the least?\r\n",
    "Answer the question: Are there any individual crimes that do not follow this pattern? If so, which crimes?\n",
    "\n",
    "Topic 5) Comparing Holidays: ​What are the top 3 holidays with the largest number of crime?\n",
    "\n",
    "  For each of the top 3 holidays with the most crime, what are the top 5 most common crimes on that holiday?"
   ]
  },
  {
   "cell_type": "raw",
   "id": "25d82037-6bbf-4d0f-ac46-eb0f4623985b",
   "metadata": {},
   "source": [
    "# topic 5\n",
    "save holiday crimes index to get top 3 holidays with the most crime\n",
    "\n",
    "use .isin to see if value in column is in list\n",
    "\n",
    "cant call column by .['Column'] when it is index... instead use df.index\n",
    "\n",
    "add format= as second arg in .to_datetime to speed up df building"
   ]
  },
  {
   "cell_type": "markdown",
   "id": "00b372a1-4dcd-4d75-91d2-9edb4b2f4e61",
   "metadata": {},
   "source": [
    "## Imports"
   ]
  },
  {
   "cell_type": "code",
   "execution_count": 1,
   "id": "444629dc-478e-440d-af38-1ac4b64ce365",
   "metadata": {},
   "outputs": [],
   "source": [
    "import pandas as pd\n",
    "import holidays\n",
    "import datetime as dt\n",
    "from holidays import country_holidays\n",
    "import os\n",
    "import seaborn as sns\n",
    "import matplotlib.pyplot as plt\n",
    "import matplotlib.ticker as mticks\n",
    "import matplotlib.dates as mdates\n",
    "from matplotlib.ticker import FuncFormatter\n",
    "import calendar"
   ]
  },
  {
   "cell_type": "markdown",
   "id": "5c472593-d4fd-4427-8698-ddea8289272d",
   "metadata": {},
   "source": [
    "## Import Data"
   ]
  },
  {
   "cell_type": "code",
   "execution_count": null,
   "id": "e6135b02-5aa5-4062-96d2-17ace7af4e2d",
   "metadata": {},
   "outputs": [],
   "source": []
  },
  {
   "cell_type": "code",
   "execution_count": null,
   "id": "c6703994-503f-4820-b614-08d0852d48a2",
   "metadata": {},
   "outputs": [],
   "source": []
  },
  {
   "cell_type": "code",
   "execution_count": null,
   "id": "8d8342f8-e783-47f1-a30e-4dd523315281",
   "metadata": {},
   "outputs": [],
   "source": []
  },
  {
   "cell_type": "code",
   "execution_count": null,
   "id": "98f2329a-cbc2-4d61-9600-19383490846b",
   "metadata": {},
   "outputs": [],
   "source": []
  }
 ],
 "metadata": {
  "kernelspec": {
   "display_name": "Python (dojo-env)",
   "language": "python",
   "name": "dojo-env"
  },
  "language_info": {
   "codemirror_mode": {
    "name": "ipython",
    "version": 3
   },
   "file_extension": ".py",
   "mimetype": "text/x-python",
   "name": "python",
   "nbconvert_exporter": "python",
   "pygments_lexer": "ipython3",
   "version": "3.10.10"
  },
  "widgets": {
   "application/vnd.jupyter.widget-state+json": {
    "state": {},
    "version_major": 2,
    "version_minor": 0
   }
  }
 },
 "nbformat": 4,
 "nbformat_minor": 5
}
