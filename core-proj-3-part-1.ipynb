{
 "cells": [
  {
   "cell_type": "markdown",
   "id": "ce3e0f4f-13bf-4df4-8884-9966c1d4e351",
   "metadata": {},
   "source": [
    "# Project 3 Part 1\n",
    "\n",
    "For Part 1, you will be downloading and preparing a crime dataset for time series analysis.\n",
    "\n",
    "\n",
    "You will then answer the provided stakeholder questions and support your answers with visualizations."
   ]
  },
  {
   "cell_type": "markdown",
   "id": "44e203c8-cc41-4d71-ad65-7251e938d859",
   "metadata": {},
   "source": [
    "## Questions\n",
    "\n",
    "Topic 1) Comparing Police Districts: Which district had the most crimes in 2022? Which had the least?\n",
    "\n",
    "Topic 5) Comparing Holidays: ​What are the top 3 holidays with the largest number of crime?\n",
    "\n",
    "  For each of the top 3 holidays with the most crime, what are the top 5 most common crimes on that holiday?"
   ]
  },
  {
   "cell_type": "code",
   "execution_count": null,
   "id": "59a48a4d-823e-4741-a774-43ec16f28615",
   "metadata": {},
   "outputs": [],
   "source": []
  },
  {
   "cell_type": "code",
   "execution_count": null,
   "id": "b0114022-f2a9-4971-8ec2-1c6c545adcf9",
   "metadata": {},
   "outputs": [],
   "source": []
  },
  {
   "cell_type": "code",
   "execution_count": null,
   "id": "3aa90b1a-02b8-4918-901c-34a4a0a5169d",
   "metadata": {},
   "outputs": [],
   "source": []
  },
  {
   "cell_type": "code",
   "execution_count": null,
   "id": "e6135b02-5aa5-4062-96d2-17ace7af4e2d",
   "metadata": {},
   "outputs": [],
   "source": []
  },
  {
   "cell_type": "code",
   "execution_count": null,
   "id": "c6703994-503f-4820-b614-08d0852d48a2",
   "metadata": {},
   "outputs": [],
   "source": []
  },
  {
   "cell_type": "code",
   "execution_count": null,
   "id": "8d8342f8-e783-47f1-a30e-4dd523315281",
   "metadata": {},
   "outputs": [],
   "source": []
  },
  {
   "cell_type": "code",
   "execution_count": null,
   "id": "98f2329a-cbc2-4d61-9600-19383490846b",
   "metadata": {},
   "outputs": [],
   "source": []
  }
 ],
 "metadata": {
  "kernelspec": {
   "display_name": "Python (dojo-env)",
   "language": "python",
   "name": "dojo-env"
  },
  "language_info": {
   "codemirror_mode": {
    "name": "ipython",
    "version": 3
   },
   "file_extension": ".py",
   "mimetype": "text/x-python",
   "name": "python",
   "nbconvert_exporter": "python",
   "pygments_lexer": "ipython3",
   "version": "3.10.10"
  },
  "widgets": {
   "application/vnd.jupyter.widget-state+json": {
    "state": {},
    "version_major": 2,
    "version_minor": 0
   }
  }
 },
 "nbformat": 4,
 "nbformat_minor": 5
}
